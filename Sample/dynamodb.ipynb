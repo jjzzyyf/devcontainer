{
 "cells": [
  {
   "cell_type": "code",
   "execution_count": null,
   "metadata": {},
   "outputs": [],
   "source": [
    "from boto3client import Boto3Client\n",
    "from dynamodb_client_sample import DynamoDBClientSample"
   ]
  },
  {
   "cell_type": "code",
   "execution_count": null,
   "metadata": {},
   "outputs": [],
   "source": [
    "client = Boto3Client().UseEnvironmentCredentials().UseLocalDynamoDB().CreateClient()\n",
    "\n",
    "resource = Boto3Client().UseEnvironmentCredentials().UseLocalDynamoDB().CreateResource()\n",
    "\n",
    "dynamodb_client_sample = DynamoDBClientSample(client, table_name=\"sample\", pk=\"ID\")"
   ]
  },
  {
   "cell_type": "code",
   "execution_count": null,
   "metadata": {},
   "outputs": [],
   "source": [
    "dynamodb_client_sample.delete_table()\n",
    "\n",
    "dynamodb_client_sample.create_table()"
   ]
  },
  {
   "cell_type": "code",
   "execution_count": null,
   "metadata": {},
   "outputs": [],
   "source": [
    "dynamodb_client_sample.put_item(pk_value=\"1\", name=\"John\", age=\"30\")\n",
    "dynamodb_client_sample.put_item(pk_value=\"2\", name=\"Jane\", age=\"25\")\n",
    "dynamodb_client_sample.put_item(pk_value=\"3\", name=\"Jack\", age=\"20\")\n",
    "dynamodb_client_sample.put_item(pk_value=\"4\", name=\"Jill\", age=\"15\")\n",
    "dynamodb_client_sample.put_item(pk_value=\"5\", name=\"Joe\", age=\"10\")"
   ]
  },
  {
   "cell_type": "code",
   "execution_count": null,
   "metadata": {},
   "outputs": [],
   "source": [
    "dynamodb_client_sample.scan_table()"
   ]
  },
  {
   "cell_type": "code",
   "execution_count": null,
   "metadata": {},
   "outputs": [],
   "source": [
    "dynamodb_client_sample.query_table(pk_value=\"1\")"
   ]
  },
  {
   "cell_type": "code",
   "execution_count": null,
   "metadata": {},
   "outputs": [],
   "source": [
    "table = resource.Table(\"sample\")\n",
    "table.get_item(Key={\"ID\": \"1\"})"
   ]
  }
 ],
 "metadata": {
  "kernelspec": {
   "display_name": "Python 3",
   "language": "python",
   "name": "python3"
  },
  "language_info": {
   "codemirror_mode": {
    "name": "ipython",
    "version": 3
   },
   "file_extension": ".py",
   "mimetype": "text/x-python",
   "name": "python",
   "nbconvert_exporter": "python",
   "pygments_lexer": "ipython3",
   "version": "3.9.13"
  },
  "orig_nbformat": 4
 },
 "nbformat": 4,
 "nbformat_minor": 2
}
