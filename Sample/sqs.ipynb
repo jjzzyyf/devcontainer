{
 "cells": [
  {
   "cell_type": "code",
   "execution_count": null,
   "metadata": {},
   "outputs": [],
   "source": [
    "import os\n",
    "from boto3client import create_sqs_client"
   ]
  },
  {
   "cell_type": "code",
   "execution_count": null,
   "metadata": {},
   "outputs": [],
   "source": [
    "client = create_sqs_client()"
   ]
  },
  {
   "cell_type": "code",
   "execution_count": null,
   "metadata": {},
   "outputs": [],
   "source": [
    "queue_name = \"test\"\n",
    "client.create_queue(QueueName=queue_name)"
   ]
  },
  {
   "cell_type": "code",
   "execution_count": null,
   "metadata": {},
   "outputs": [],
   "source": [
    "response = client.get_queue_url(\n",
    "    QueueName=queue_name,\n",
    ")\n",
    "queue_url = response[\"QueueUrl\"]\n",
    "\n",
    "print(queue_url)"
   ]
  },
  {
   "cell_type": "code",
   "execution_count": null,
   "metadata": {},
   "outputs": [],
   "source": [
    "def send_message(queue_url: str, message: str):\n",
    "    return client.send_message(\n",
    "        QueueUrl=queue_url,\n",
    "        MessageBody=message,\n",
    "    )\n",
    "\n",
    "\n",
    "response = send_message(queue_url=queue_url, message=\"hello world\")\n",
    "\n",
    "response"
   ]
  },
  {
   "cell_type": "code",
   "execution_count": null,
   "metadata": {},
   "outputs": [],
   "source": [
    "response = client.receive_message(\n",
    "    QueueUrl=queue_url, MaxNumberOfMessages=10, VisibilityTimeout=1\n",
    ")\n",
    "\n",
    "receipt_handle = response[\"Messages\"][0][\"ReceiptHandle\"]\n",
    "\n",
    "response"
   ]
  },
  {
   "cell_type": "code",
   "execution_count": null,
   "metadata": {},
   "outputs": [],
   "source": [
    "client.delete_message(\n",
    "    QueueUrl=queue_url,\n",
    "    ReceiptHandle=receipt_handle,\n",
    ")"
   ]
  }
 ],
 "metadata": {
  "kernelspec": {
   "display_name": "Python 3",
   "language": "python",
   "name": "python3"
  },
  "language_info": {
   "codemirror_mode": {
    "name": "ipython",
    "version": 3
   },
   "file_extension": ".py",
   "mimetype": "text/x-python",
   "name": "python",
   "nbconvert_exporter": "python",
   "pygments_lexer": "ipython3",
   "version": "3.9.16"
  },
  "orig_nbformat": 4
 },
 "nbformat": 4,
 "nbformat_minor": 2
}
